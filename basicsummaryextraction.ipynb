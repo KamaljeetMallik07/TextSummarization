{
 "cells": [
  {
   "cell_type": "code",
   "execution_count": 1,
   "metadata": {},
   "outputs": [
    {
     "name": "stderr",
     "output_type": "stream",
     "text": [
      "[nltk_data] Downloading package stopwords to\n",
      "[nltk_data]     C:\\Users\\Administrator\\AppData\\Roaming\\nltk_data...\n",
      "[nltk_data]   Package stopwords is already up-to-date!\n"
     ]
    }
   ],
   "source": [
    "#importing libraries\n",
    "import pandas as pd\n",
    "import numpy as np\n",
    "import nltk\n",
    "from nltk import sent_tokenize, word_tokenize\n",
    "nltk.download('stopwords')\n",
    "from nltk.corpus import stopwords\n",
    "from nltk import PorterStemmer"
   ]
  },
  {
   "cell_type": "code",
   "execution_count": 2,
   "metadata": {},
   "outputs": [],
   "source": [
    "#1-reading the file\n",
    "f=open(\"The Old Man at the Bridge.txt\",\"r\")\n",
    "s1=\"\"\n",
    "s1+=f.read()\n",
    "#removing punctuation,comma,queastion-mark,quotation,hyphens,dashes\n",
    "s1=s1.replace(\",\",\"\")\n",
    "s1=s1.replace(\"?\",\"\")\n",
    "s1=s1.replace(\"!\",\"\")\n",
    "s1=s1.replace('\"','')\n",
    "s1=s1.replace('-','')\n",
    "s1=s1.replace('_','')\n",
    "s1=s1.replace(\"'\",'')\n",
    "#print(s1)\n",
    "#print(word_tokenize(s1))"
   ]
  },
  {
   "cell_type": "code",
   "execution_count": 3,
   "metadata": {},
   "outputs": [
    {
     "name": "stdout",
     "output_type": "stream",
     "text": [
      "{1: 'An old man with steel rimmed spectacles and very dusty clothes sat by the side of the road.', 2: 'There was a pontoon bridge across the river and carts trucks and men women and children were crossing it.', 3: 'The mule drawn carts staggered up the steep bank from the bridge with soldiers helping push against the spokes of the wheels.', 4: 'The trucks ground up and away heading out of it all and the peasants plodded along in the ankle deep dust.', 5: 'But the old man sat there without moving.', 6: 'He was too tired to go any farther.', 7: 'It was my business to cross the bridge explore the bridgehead beyond and find out to what point the enemy had advanced.', 8: 'I did this and returned over the bridge.', 9: 'There were not so many carts now and very few people on foot but the old man was still there.', 10: 'Where do you come from I asked him.', 11: 'From San Carlos he said and smiled.', 12: 'That was his native town and so it gave him pleasure to mention it and he smiled.', 13: 'I was taking care of animals he explained.', 14: 'Oh I said not quite understanding.', 15: 'Yes he said I stayed you see taking care of animals.', 16: 'I was the last one to leave the town of San Carlos.', 17: 'He did not look like a shepherd nor a herdsman and I looked at his black dusty clothes and his gray dusty face and his steel rimmed spectacles and said What animals were they\\nVarious animals he said and shook his head.', 18: 'I had to leave them.', 19: 'I was watching the bridge and the African looking country of the Ebro Delta and wondering how long now it would be before we would see the enemy and listening all the while for the first noises that would signal that ever mysterious event called contact and the old man still sat there.', 20: 'What animals were they I asked.', 21: 'There were three animals altogether he explained.', 22: 'There were two goats and a cat and then there were four pairs of pigeons.', 23: 'And you had to leave them I asked.', 24: 'Yes.', 25: 'Because of the artillery.', 26: 'The captain told me to go because of the artillery.', 27: 'And you have no family I asked watching the far end of the bridge where a few last carts were hurrying down the slope of the bank.', 28: 'No he said only the animals I stated.', 29: 'The cat of course will be all right.', 30: 'A cat can look out for itself but I cannot think what will become of the others.', 31: 'What politics have you I asked.', 32: 'I am without politics he said.', 33: 'I am seventysix years old.', 34: 'I have come twelve kilometers now and I think now I can go no further.', 35: 'This is not a good place to stop I said.', 36: 'If you can make it there are trucks up the road where it forks for Tortosa.', 37: 'I will wait a while he said  and then I will go.', 38: 'Where do the trucks go\\nTowards Barcelona I told him.', 39: 'I know no one in that direction he said but thank you very much.', 40: 'Thank you again very much.', 41: 'He looked at me very blankly and tiredly and then said having to share his worry with someone The cat will be all right I am sure.', 42: 'There is no need to be unquiet about the cat.', 43: 'But the others.', 44: 'Now what do you think about the others\\nWhy theyll probably come through it all right.', 45: 'You think so\\nWhy not I said watching the far bank where now there were no carts.', 46: 'But what will they do under the artillery when I was told to leave because of the artillery Did you leave the dove cage unlocked I asked.', 47: 'Yes.', 48: 'Then theyll fly.', 49: 'Yes certainly theyll fly.', 50: 'But the others.', 51: 'Its better not to think about the others he said.', 52: 'If you are rested I would go I urged.', 53: 'Get up and try to walk now.', 54: 'Thank you he said and got to his feet swayed from side to side and then sat down backwards in the dust.', 55: 'I was taking care of animals he said dully but no longer to me.', 56: 'I was only taking care of animals.', 57: 'There was nothing to do about him.', 58: 'It was Easter Sunday and the Fascists were advancing toward the Ebro.', 59: 'It was a gray overcast day with a low ceiling so their planes were not up.', 60: 'That and the fact that cats know how to look after themselves was all the good luck that old man would ever have.'}\n"
     ]
    }
   ],
   "source": [
    "#2-tokenize sentences\n",
    "sentences=sent_tokenize(s1)\n",
    "length=len(sentences)\n",
    "d1=dict()\n",
    "for i in range(1,length+1):\n",
    "    key=i\n",
    "    value=sentences[i-1]\n",
    "    d1[key]=value\n",
    "print(d1)"
   ]
  },
  {
   "cell_type": "code",
   "execution_count": 4,
   "metadata": {},
   "outputs": [
    {
     "ename": "IndexError",
     "evalue": "list index out of range",
     "output_type": "error",
     "traceback": [
      "\u001b[1;31m---------------------------------------------------------------------------\u001b[0m",
      "\u001b[1;31mIndexError\u001b[0m                                Traceback (most recent call last)",
      "\u001b[1;32m<ipython-input-4-e79200230f58>\u001b[0m in \u001b[0;36m<module>\u001b[1;34m\u001b[0m\n\u001b[0;32m     20\u001b[0m \u001b[0mnewsent\u001b[0m\u001b[1;33m=\u001b[0m\u001b[1;34m\"\"\u001b[0m\u001b[1;33m\u001b[0m\u001b[1;33m\u001b[0m\u001b[0m\n\u001b[0;32m     21\u001b[0m \u001b[1;32mfor\u001b[0m \u001b[0mi\u001b[0m \u001b[1;32min\u001b[0m \u001b[0mrange\u001b[0m\u001b[1;33m(\u001b[0m\u001b[0mlength\u001b[0m\u001b[1;33m)\u001b[0m\u001b[1;33m:\u001b[0m\u001b[1;33m\u001b[0m\u001b[1;33m\u001b[0m\u001b[0m\n\u001b[1;32m---> 22\u001b[1;33m     \u001b[0msentences\u001b[0m\u001b[1;33m[\u001b[0m\u001b[0mi\u001b[0m\u001b[1;33m]\u001b[0m\u001b[1;33m=\u001b[0m\u001b[0mlemmatize\u001b[0m\u001b[1;33m(\u001b[0m\u001b[0msentences\u001b[0m\u001b[1;33m[\u001b[0m\u001b[0mi\u001b[0m\u001b[1;33m]\u001b[0m\u001b[1;33m)\u001b[0m\u001b[1;33m\u001b[0m\u001b[1;33m\u001b[0m\u001b[0m\n\u001b[0m\u001b[0;32m     23\u001b[0m \u001b[0mprint\u001b[0m\u001b[1;33m(\u001b[0m\u001b[0msentences\u001b[0m\u001b[1;33m)\u001b[0m\u001b[1;33m\u001b[0m\u001b[1;33m\u001b[0m\u001b[0m\n",
      "\u001b[1;31mIndexError\u001b[0m: list index out of range"
     ]
    }
   ],
   "source": [
    "#lemmatize & removing stopwords\n",
    "def lemmatize(s1):\n",
    "    l1=word_tokenize(s1)\n",
    "    s2=\"\"\n",
    "    ensw=stopwords.words('english')\n",
    "    ps=PorterStemmer()\n",
    "    for i in l1:\n",
    "        if i in ensw:\n",
    "            continue\n",
    "            #s2+=i\n",
    "            #s2+=\" \"\n",
    "        else:\n",
    "            s2+=ps.stem(i)\n",
    "            s2+=\" \"\n",
    "    return s2\n",
    "s3=\"\"\n",
    "for i in sentences:\n",
    "    s3+=i.lower()\n",
    "sentences=sent_tokenize(s3)\n",
    "newsent=\"\"\n",
    "for i in range(length):\n",
    "    sentences[i]=lemmatize(sentences[i])\n",
    "print(sentences)"
   ]
  },
  {
   "cell_type": "code",
   "execution_count": null,
   "metadata": {},
   "outputs": [],
   "source": [
    "#finding weights\n",
    "import math\n",
    "def weight(st):\n",
    "    k=st.replace('.','')\n",
    "    j=k.strip()\n",
    "    l1=list(j.split(\" \"))\n",
    "    normalize=0\n",
    "    l2=[]\n",
    "    for i in range(len(l1)):\n",
    "        count=1\n",
    "        for j in range(i+1,len(l1)):\n",
    "            if l1[i]==l1[j]:\n",
    "                count+=1\n",
    "        normalize+=count**2\n",
    "    for i in range(len(l1)):\n",
    "        count=1\n",
    "        for j in range(i+1,len(l1)):\n",
    "            if l1[i]==l1[j]:\n",
    "                count+=1\n",
    "        l2.append(count/math.sqrt(normalize))\n",
    "        \n",
    "    #l1=k.split(\" \")\n",
    "    #l1.remove(\" \")\n",
    "    return sum(l2)\n",
    "    #print(list(j.split(\" \")))\n",
    "        \n",
    "print(len(sentences))\n",
    "d2=dict()\n",
    "\n",
    "for i in range(1,length+1):\n",
    "    key=i\n",
    "    weight_of_sentence=weight(sentences[i-1])\n",
    "    d2[key]=weight_of_sentence\n",
    "d3=dict()\n",
    "d3=sorted(d2.items(), key = lambda kv:(kv[1], kv[0]))\n",
    "l55=[]\n",
    "for i in range(len(d3)-1,len(d3)-6,-1):\n",
    "    l55.append(d3[i][0])\n",
    "print(l55)"
   ]
  },
  {
   "cell_type": "code",
   "execution_count": null,
   "metadata": {},
   "outputs": [],
   "source": [
    "#generating top 5 summaries\n",
    "st55=\"\"\n",
    "for i in range(len(l55)):\n",
    "    for j in range(1,length+1):\n",
    "        if(l55[i]==j):\n",
    "            st55+=d1[j]\n",
    "print(st55)"
   ]
  },
  {
   "cell_type": "code",
   "execution_count": null,
   "metadata": {},
   "outputs": [],
   "source": [
    "fp=open(\"summarized.txt\",\"w\")\n",
    "fp.write(st55)\n",
    "fp.close()"
   ]
  },
  {
   "cell_type": "code",
   "execution_count": null,
   "metadata": {},
   "outputs": [],
   "source": []
  }
 ],
 "metadata": {
  "kernelspec": {
   "display_name": "Python 3",
   "language": "python",
   "name": "python3"
  },
  "language_info": {
   "codemirror_mode": {
    "name": "ipython",
    "version": 3
   },
   "file_extension": ".py",
   "mimetype": "text/x-python",
   "name": "python",
   "nbconvert_exporter": "python",
   "pygments_lexer": "ipython3",
   "version": "3.7.1"
  }
 },
 "nbformat": 4,
 "nbformat_minor": 2
}
