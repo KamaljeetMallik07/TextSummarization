{
  "nbformat": 4,
  "nbformat_minor": 0,
  "metadata": {
    "colab": {
      "name": "week1.ipynb",
      "provenance": [],
      "collapsed_sections": []
    },
    "kernelspec": {
      "name": "python3",
      "display_name": "Python 3"
    }
  },
  "cells": [
    {
      "cell_type": "code",
      "metadata": {
        "id": "6QN0gxtK2ObT",
        "colab_type": "code",
        "outputId": "3a4a5181-026b-4b2e-e88c-c7838b52960d",
        "colab": {
          "base_uri": "https://localhost:8080/",
          "height": 68
        }
      },
      "source": [
        "import nltk\n",
        "nltk.download('stopwords')"
      ],
      "execution_count": 0,
      "outputs": [
        {
          "output_type": "stream",
          "text": [
            "[nltk_data] Downloading package stopwords to /root/nltk_data...\n",
            "[nltk_data]   Package stopwords is already up-to-date!\n"
          ],
          "name": "stdout"
        },
        {
          "output_type": "execute_result",
          "data": {
            "text/plain": [
              "True"
            ]
          },
          "metadata": {
            "tags": []
          },
          "execution_count": 22
        }
      ]
    },
    {
      "cell_type": "code",
      "metadata": {
        "id": "RqzFzjx0Ekqz",
        "colab_type": "code",
        "colab": {}
      },
      "source": [
        "f=open('sample.txt','r')\n"
      ],
      "execution_count": 0,
      "outputs": []
    },
    {
      "cell_type": "code",
      "metadata": {
        "id": "6BvtbWuw5Boa",
        "colab_type": "code",
        "colab": {}
      },
      "source": [
        "t=f.read()\n",
        "#t"
      ],
      "execution_count": 0,
      "outputs": []
    },
    {
      "cell_type": "code",
      "metadata": {
        "id": "AW2V-G3QHmRs",
        "colab_type": "code",
        "colab": {}
      },
      "source": [
        "l=t.split('.')\n",
        "#l"
      ],
      "execution_count": 0,
      "outputs": []
    },
    {
      "cell_type": "code",
      "metadata": {
        "id": "PRMr2VB1Py08",
        "colab_type": "code",
        "colab": {}
      },
      "source": [
        "from nltk.corpus import stopwords\n",
        "stop_words = set(stopwords.words('english'))"
      ],
      "execution_count": 0,
      "outputs": []
    },
    {
      "cell_type": "code",
      "metadata": {
        "id": "kyHmbg8tIFnF",
        "colab_type": "code",
        "outputId": "fa051ce9-640f-4511-d9c2-1f4969a772ea",
        "colab": {
          "base_uri": "https://localhost:8080/",
          "height": 105
        }
      },
      "source": [
        "di={}\n",
        "ls=[]\n",
        "tls=[]\n",
        "ftls=[]\n",
        "d=1\n",
        "tokenizer=nltk.tokenize.TreebankWordTokenizer()\n",
        "for i in l:\n",
        "  j=i.replace('\\n','')\n",
        "  ls.append(j)\n",
        "  ts=tokenizer.tokenize(j)\n",
        "  tls.append(ts)\n",
        "  filtered_sentence = [w for w in ts if not w in stop_words]\n",
        "  ftls.append(filtered_sentence)\n",
        "  di[d]=j\n",
        "  d+=1\n",
        "#del di[len(di)]\n",
        "print(di)\n",
        "print(ls)\n",
        "print(tls)\n",
        "print(ftls)"
      ],
      "execution_count": 0,
      "outputs": [
        {
          "output_type": "stream",
          "text": [
            "{1: '“The Old Man at the Bridge” by Ernest HemingwayAn old man with steel rimmed spectacles and very dusty clothes sat by the side of the road', 2: ' There was a pontoon bridge across the river and carts, trucks, and men, women and children were crossing it', 3: ' The mule- drawn carts staggered up the steep bank from the bridge with soldiers helping push against the spokes of the wheels', 4: ' The trucks ground up and away heading out of it all and the peasants plodded along in the ankle deep dust', 5: ' But the old man sat there without moving', 6: ' He was too tired to go any farther', 7: 'It was my business to cross the bridge, explore the bridgehead beyond and find out to what point the enemy had advanced', 8: ' I did this and returned over the bridge', 9: ' There were not so many carts now and very few people on foot, but the old man was still there', 10: '\"Where do you come from?\" I asked him', 11: ' \"From San Carlos,\" he said, and smiled', 12: 'That was his native town and so it gave him pleasure to mention it and he smiled', 13: ' \"I was taking care of animals,\" he explained', 14: '\"Oh,\" I said, not quite understanding', 15: '\"Yes,\" he said, \"I stayed, you see, taking care of animals', 16: ' I was the last one to leave the town of San Carlos', 17: '\"He did not look like a shepherd nor a herdsman and I looked at his black dusty clothes and his gray dusty face and his steel rimmed spectacles and said, \"What animals were they?\"\"Various animals,\" he said, and shook his head', 18: ' \"I had to leave them', 19: '\"I was watching the bridge and the African looking country of the Ebro Delta and wondering how long now it would be before we would see the enemy, and listening all the while for the first noises that would signal that ever mysterious event called contact, and the old man still sat there', 20: '\"What animals were they?\" I asked', 21: '\"There were three animals altogether,\" he explained', 22: ' \"There were two goats and a cat and then there were four pairs of pigeons', 23: '\"And you had to leave them?\" I asked', 24: '\"Yes', 25: ' Because of the artillery', 26: ' The captain told me to go because of the artillery', 27: '\"\"And you have no family?\" I asked, watching the far end of the bridge where a few last carts were hurrying down the slope of the bank', 28: '\"No,\" he said, \"only the animals I stated', 29: ' The cat, of course, will be all right', 30: ' A cat can look out for itself, but I cannot think what will become of the others', 31: '\"\"What politics have you?\" I asked', 32: '\"I am without politics,\" he said', 33: ' \"I am seventy-six years old', 34: ' I have come twelve kilometers now and I think now I can go no further', 35: '\"\"This is not a good place to stop,\" I said', 36: ' \"If you can make it, there are trucks up the road where it forks for Tortosa', 37: '\" \"I will wait a while,\" he said, \" and then I will go', 38: ' Where do the trucks go?\"\"Towards Barcelona,\" I told him', 39: '\"I know no one in that direction,\" he said, \"but thank you very much', 40: ' Thank you again very much', 41: '\"He looked at me very blankly and tiredly, and then said, having to share his worry with someone, \"The cat will be all right, I am sure', 42: ' There is no need to be unquiet about the cat', 43: ' But the others', 44: ' Now what do you think about the others?\"\"Why they\\'ll probably come through it all right', 45: '\" \"You think so?\"\"Why not,\" I said, watching the far bank where now there were no carts', 46: '\"But what will they do under the artillery when I was told to leave because of the artillery?\" \"Did you leave the dove cage unlocked?\" I asked', 47: '\"Yes', 48: '\"\"Then they\\'ll fly', 49: '\"\"Yes, certainly they\\'ll fly', 50: ' But the others', 51: ' It\\'s better not to think about the others,\" he said', 52: ' \"If you are rested I would go,\" I urged', 53: ' \"Get up and try to walk now', 54: '\"\"Thank you,\" he said and got to his feet, swayed from side to side and then sat down backwards in the dust', 55: ' \"I was taking care of animals,\" he said dully, but no longer to me', 56: ' \"I was only taking care of animals', 57: '\"There was nothing to do about him', 58: ' It was Easter Sunday and the Fascists were advancing toward the Ebro', 59: ' It was a gray overcast day with a low ceiling so their planes were not up', 60: ' That and the fact that cats know how to look after themselves was all the good luck that old man would ever have', 61: ''}\n",
            "['“The Old Man at the Bridge” by Ernest HemingwayAn old man with steel rimmed spectacles and very dusty clothes sat by the side of the road', ' There was a pontoon bridge across the river and carts, trucks, and men, women and children were crossing it', ' The mule- drawn carts staggered up the steep bank from the bridge with soldiers helping push against the spokes of the wheels', ' The trucks ground up and away heading out of it all and the peasants plodded along in the ankle deep dust', ' But the old man sat there without moving', ' He was too tired to go any farther', 'It was my business to cross the bridge, explore the bridgehead beyond and find out to what point the enemy had advanced', ' I did this and returned over the bridge', ' There were not so many carts now and very few people on foot, but the old man was still there', '\"Where do you come from?\" I asked him', ' \"From San Carlos,\" he said, and smiled', 'That was his native town and so it gave him pleasure to mention it and he smiled', ' \"I was taking care of animals,\" he explained', '\"Oh,\" I said, not quite understanding', '\"Yes,\" he said, \"I stayed, you see, taking care of animals', ' I was the last one to leave the town of San Carlos', '\"He did not look like a shepherd nor a herdsman and I looked at his black dusty clothes and his gray dusty face and his steel rimmed spectacles and said, \"What animals were they?\"\"Various animals,\" he said, and shook his head', ' \"I had to leave them', '\"I was watching the bridge and the African looking country of the Ebro Delta and wondering how long now it would be before we would see the enemy, and listening all the while for the first noises that would signal that ever mysterious event called contact, and the old man still sat there', '\"What animals were they?\" I asked', '\"There were three animals altogether,\" he explained', ' \"There were two goats and a cat and then there were four pairs of pigeons', '\"And you had to leave them?\" I asked', '\"Yes', ' Because of the artillery', ' The captain told me to go because of the artillery', '\"\"And you have no family?\" I asked, watching the far end of the bridge where a few last carts were hurrying down the slope of the bank', '\"No,\" he said, \"only the animals I stated', ' The cat, of course, will be all right', ' A cat can look out for itself, but I cannot think what will become of the others', '\"\"What politics have you?\" I asked', '\"I am without politics,\" he said', ' \"I am seventy-six years old', ' I have come twelve kilometers now and I think now I can go no further', '\"\"This is not a good place to stop,\" I said', ' \"If you can make it, there are trucks up the road where it forks for Tortosa', '\" \"I will wait a while,\" he said, \" and then I will go', ' Where do the trucks go?\"\"Towards Barcelona,\" I told him', '\"I know no one in that direction,\" he said, \"but thank you very much', ' Thank you again very much', '\"He looked at me very blankly and tiredly, and then said, having to share his worry with someone, \"The cat will be all right, I am sure', ' There is no need to be unquiet about the cat', ' But the others', ' Now what do you think about the others?\"\"Why they\\'ll probably come through it all right', '\" \"You think so?\"\"Why not,\" I said, watching the far bank where now there were no carts', '\"But what will they do under the artillery when I was told to leave because of the artillery?\" \"Did you leave the dove cage unlocked?\" I asked', '\"Yes', '\"\"Then they\\'ll fly', '\"\"Yes, certainly they\\'ll fly', ' But the others', ' It\\'s better not to think about the others,\" he said', ' \"If you are rested I would go,\" I urged', ' \"Get up and try to walk now', '\"\"Thank you,\" he said and got to his feet, swayed from side to side and then sat down backwards in the dust', ' \"I was taking care of animals,\" he said dully, but no longer to me', ' \"I was only taking care of animals', '\"There was nothing to do about him', ' It was Easter Sunday and the Fascists were advancing toward the Ebro', ' It was a gray overcast day with a low ceiling so their planes were not up', ' That and the fact that cats know how to look after themselves was all the good luck that old man would ever have', '']\n",
            "[['“', 'The', 'Old', 'Man', 'at', 'the', 'Bridge', '”', 'by', 'Ernest', 'HemingwayAn', 'old', 'man', 'with', 'steel', 'rimmed', 'spectacles', 'and', 'very', 'dusty', 'clothes', 'sat', 'by', 'the', 'side', 'of', 'the', 'road'], ['There', 'was', 'a', 'pontoon', 'bridge', 'across', 'the', 'river', 'and', 'carts', ',', 'trucks', ',', 'and', 'men', ',', 'women', 'and', 'children', 'were', 'crossing', 'it'], ['The', 'mule-', 'drawn', 'carts', 'staggered', 'up', 'the', 'steep', 'bank', 'from', 'the', 'bridge', 'with', 'soldiers', 'helping', 'push', 'against', 'the', 'spokes', 'of', 'the', 'wheels'], ['The', 'trucks', 'ground', 'up', 'and', 'away', 'heading', 'out', 'of', 'it', 'all', 'and', 'the', 'peasants', 'plodded', 'along', 'in', 'the', 'ankle', 'deep', 'dust'], ['But', 'the', 'old', 'man', 'sat', 'there', 'without', 'moving'], ['He', 'was', 'too', 'tired', 'to', 'go', 'any', 'farther'], ['It', 'was', 'my', 'business', 'to', 'cross', 'the', 'bridge', ',', 'explore', 'the', 'bridgehead', 'beyond', 'and', 'find', 'out', 'to', 'what', 'point', 'the', 'enemy', 'had', 'advanced'], ['I', 'did', 'this', 'and', 'returned', 'over', 'the', 'bridge'], ['There', 'were', 'not', 'so', 'many', 'carts', 'now', 'and', 'very', 'few', 'people', 'on', 'foot', ',', 'but', 'the', 'old', 'man', 'was', 'still', 'there'], ['``', 'Where', 'do', 'you', 'come', 'from', '?', \"''\", 'I', 'asked', 'him'], ['``', 'From', 'San', 'Carlos', ',', \"''\", 'he', 'said', ',', 'and', 'smiled'], ['That', 'was', 'his', 'native', 'town', 'and', 'so', 'it', 'gave', 'him', 'pleasure', 'to', 'mention', 'it', 'and', 'he', 'smiled'], ['``', 'I', 'was', 'taking', 'care', 'of', 'animals', ',', \"''\", 'he', 'explained'], ['``', 'Oh', ',', \"''\", 'I', 'said', ',', 'not', 'quite', 'understanding'], ['``', 'Yes', ',', \"''\", 'he', 'said', ',', '``', 'I', 'stayed', ',', 'you', 'see', ',', 'taking', 'care', 'of', 'animals'], ['I', 'was', 'the', 'last', 'one', 'to', 'leave', 'the', 'town', 'of', 'San', 'Carlos'], ['``', 'He', 'did', 'not', 'look', 'like', 'a', 'shepherd', 'nor', 'a', 'herdsman', 'and', 'I', 'looked', 'at', 'his', 'black', 'dusty', 'clothes', 'and', 'his', 'gray', 'dusty', 'face', 'and', 'his', 'steel', 'rimmed', 'spectacles', 'and', 'said', ',', '``', 'What', 'animals', 'were', 'they', '?', \"''\", \"''\", 'Various', 'animals', ',', \"''\", 'he', 'said', ',', 'and', 'shook', 'his', 'head'], ['``', 'I', 'had', 'to', 'leave', 'them'], ['``', 'I', 'was', 'watching', 'the', 'bridge', 'and', 'the', 'African', 'looking', 'country', 'of', 'the', 'Ebro', 'Delta', 'and', 'wondering', 'how', 'long', 'now', 'it', 'would', 'be', 'before', 'we', 'would', 'see', 'the', 'enemy', ',', 'and', 'listening', 'all', 'the', 'while', 'for', 'the', 'first', 'noises', 'that', 'would', 'signal', 'that', 'ever', 'mysterious', 'event', 'called', 'contact', ',', 'and', 'the', 'old', 'man', 'still', 'sat', 'there'], ['``', 'What', 'animals', 'were', 'they', '?', \"''\", 'I', 'asked'], ['``', 'There', 'were', 'three', 'animals', 'altogether', ',', \"''\", 'he', 'explained'], ['``', 'There', 'were', 'two', 'goats', 'and', 'a', 'cat', 'and', 'then', 'there', 'were', 'four', 'pairs', 'of', 'pigeons'], ['``', 'And', 'you', 'had', 'to', 'leave', 'them', '?', \"''\", 'I', 'asked'], ['``', 'Yes'], ['Because', 'of', 'the', 'artillery'], ['The', 'captain', 'told', 'me', 'to', 'go', 'because', 'of', 'the', 'artillery'], ['``', '``', 'And', 'you', 'have', 'no', 'family', '?', \"''\", 'I', 'asked', ',', 'watching', 'the', 'far', 'end', 'of', 'the', 'bridge', 'where', 'a', 'few', 'last', 'carts', 'were', 'hurrying', 'down', 'the', 'slope', 'of', 'the', 'bank'], ['``', 'No', ',', \"''\", 'he', 'said', ',', '``', 'only', 'the', 'animals', 'I', 'stated'], ['The', 'cat', ',', 'of', 'course', ',', 'will', 'be', 'all', 'right'], ['A', 'cat', 'can', 'look', 'out', 'for', 'itself', ',', 'but', 'I', 'can', 'not', 'think', 'what', 'will', 'become', 'of', 'the', 'others'], ['``', '``', 'What', 'politics', 'have', 'you', '?', \"''\", 'I', 'asked'], ['``', 'I', 'am', 'without', 'politics', ',', \"''\", 'he', 'said'], ['``', 'I', 'am', 'seventy-six', 'years', 'old'], ['I', 'have', 'come', 'twelve', 'kilometers', 'now', 'and', 'I', 'think', 'now', 'I', 'can', 'go', 'no', 'further'], ['``', '``', 'This', 'is', 'not', 'a', 'good', 'place', 'to', 'stop', ',', \"''\", 'I', 'said'], ['``', 'If', 'you', 'can', 'make', 'it', ',', 'there', 'are', 'trucks', 'up', 'the', 'road', 'where', 'it', 'forks', 'for', 'Tortosa'], ['``', '``', 'I', 'will', 'wait', 'a', 'while', ',', \"''\", 'he', 'said', ',', '``', 'and', 'then', 'I', 'will', 'go'], ['Where', 'do', 'the', 'trucks', 'go', '?', \"''\", \"''\", 'Towards', 'Barcelona', ',', \"''\", 'I', 'told', 'him'], ['``', 'I', 'know', 'no', 'one', 'in', 'that', 'direction', ',', \"''\", 'he', 'said', ',', '``', 'but', 'thank', 'you', 'very', 'much'], ['Thank', 'you', 'again', 'very', 'much'], ['``', 'He', 'looked', 'at', 'me', 'very', 'blankly', 'and', 'tiredly', ',', 'and', 'then', 'said', ',', 'having', 'to', 'share', 'his', 'worry', 'with', 'someone', ',', '``', 'The', 'cat', 'will', 'be', 'all', 'right', ',', 'I', 'am', 'sure'], ['There', 'is', 'no', 'need', 'to', 'be', 'unquiet', 'about', 'the', 'cat'], ['But', 'the', 'others'], ['Now', 'what', 'do', 'you', 'think', 'about', 'the', 'others', '?', \"''\", \"''\", 'Why', 'they', \"'ll\", 'probably', 'come', 'through', 'it', 'all', 'right'], ['``', '``', 'You', 'think', 'so', '?', \"''\", \"''\", 'Why', 'not', ',', \"''\", 'I', 'said', ',', 'watching', 'the', 'far', 'bank', 'where', 'now', 'there', 'were', 'no', 'carts'], ['``', 'But', 'what', 'will', 'they', 'do', 'under', 'the', 'artillery', 'when', 'I', 'was', 'told', 'to', 'leave', 'because', 'of', 'the', 'artillery', '?', \"''\", '``', 'Did', 'you', 'leave', 'the', 'dove', 'cage', 'unlocked', '?', \"''\", 'I', 'asked'], ['``', 'Yes'], ['``', '``', 'Then', 'they', \"'ll\", 'fly'], ['``', '``', 'Yes', ',', 'certainly', 'they', \"'ll\", 'fly'], ['But', 'the', 'others'], ['It', \"'s\", 'better', 'not', 'to', 'think', 'about', 'the', 'others', ',', \"''\", 'he', 'said'], ['``', 'If', 'you', 'are', 'rested', 'I', 'would', 'go', ',', \"''\", 'I', 'urged'], ['``', 'Get', 'up', 'and', 'try', 'to', 'walk', 'now'], ['``', '``', 'Thank', 'you', ',', \"''\", 'he', 'said', 'and', 'got', 'to', 'his', 'feet', ',', 'swayed', 'from', 'side', 'to', 'side', 'and', 'then', 'sat', 'down', 'backwards', 'in', 'the', 'dust'], ['``', 'I', 'was', 'taking', 'care', 'of', 'animals', ',', \"''\", 'he', 'said', 'dully', ',', 'but', 'no', 'longer', 'to', 'me'], ['``', 'I', 'was', 'only', 'taking', 'care', 'of', 'animals'], ['``', 'There', 'was', 'nothing', 'to', 'do', 'about', 'him'], ['It', 'was', 'Easter', 'Sunday', 'and', 'the', 'Fascists', 'were', 'advancing', 'toward', 'the', 'Ebro'], ['It', 'was', 'a', 'gray', 'overcast', 'day', 'with', 'a', 'low', 'ceiling', 'so', 'their', 'planes', 'were', 'not', 'up'], ['That', 'and', 'the', 'fact', 'that', 'cats', 'know', 'how', 'to', 'look', 'after', 'themselves', 'was', 'all', 'the', 'good', 'luck', 'that', 'old', 'man', 'would', 'ever', 'have'], []]\n",
            "[['“', 'The', 'Old', 'Man', 'Bridge', '”', 'Ernest', 'HemingwayAn', 'old', 'man', 'steel', 'rimmed', 'spectacles', 'dusty', 'clothes', 'sat', 'side', 'road'], ['There', 'pontoon', 'bridge', 'across', 'river', 'carts', ',', 'trucks', ',', 'men', ',', 'women', 'children', 'crossing'], ['The', 'mule-', 'drawn', 'carts', 'staggered', 'steep', 'bank', 'bridge', 'soldiers', 'helping', 'push', 'spokes', 'wheels'], ['The', 'trucks', 'ground', 'away', 'heading', 'peasants', 'plodded', 'along', 'ankle', 'deep', 'dust'], ['But', 'old', 'man', 'sat', 'without', 'moving'], ['He', 'tired', 'go', 'farther'], ['It', 'business', 'cross', 'bridge', ',', 'explore', 'bridgehead', 'beyond', 'find', 'point', 'enemy', 'advanced'], ['I', 'returned', 'bridge'], ['There', 'many', 'carts', 'people', 'foot', ',', 'old', 'man', 'still'], ['``', 'Where', 'come', '?', \"''\", 'I', 'asked'], ['``', 'From', 'San', 'Carlos', ',', \"''\", 'said', ',', 'smiled'], ['That', 'native', 'town', 'gave', 'pleasure', 'mention', 'smiled'], ['``', 'I', 'taking', 'care', 'animals', ',', \"''\", 'explained'], ['``', 'Oh', ',', \"''\", 'I', 'said', ',', 'quite', 'understanding'], ['``', 'Yes', ',', \"''\", 'said', ',', '``', 'I', 'stayed', ',', 'see', ',', 'taking', 'care', 'animals'], ['I', 'last', 'one', 'leave', 'town', 'San', 'Carlos'], ['``', 'He', 'look', 'like', 'shepherd', 'herdsman', 'I', 'looked', 'black', 'dusty', 'clothes', 'gray', 'dusty', 'face', 'steel', 'rimmed', 'spectacles', 'said', ',', '``', 'What', 'animals', '?', \"''\", \"''\", 'Various', 'animals', ',', \"''\", 'said', ',', 'shook', 'head'], ['``', 'I', 'leave'], ['``', 'I', 'watching', 'bridge', 'African', 'looking', 'country', 'Ebro', 'Delta', 'wondering', 'long', 'would', 'would', 'see', 'enemy', ',', 'listening', 'first', 'noises', 'would', 'signal', 'ever', 'mysterious', 'event', 'called', 'contact', ',', 'old', 'man', 'still', 'sat'], ['``', 'What', 'animals', '?', \"''\", 'I', 'asked'], ['``', 'There', 'three', 'animals', 'altogether', ',', \"''\", 'explained'], ['``', 'There', 'two', 'goats', 'cat', 'four', 'pairs', 'pigeons'], ['``', 'And', 'leave', '?', \"''\", 'I', 'asked'], ['``', 'Yes'], ['Because', 'artillery'], ['The', 'captain', 'told', 'go', 'artillery'], ['``', '``', 'And', 'family', '?', \"''\", 'I', 'asked', ',', 'watching', 'far', 'end', 'bridge', 'last', 'carts', 'hurrying', 'slope', 'bank'], ['``', 'No', ',', \"''\", 'said', ',', '``', 'animals', 'I', 'stated'], ['The', 'cat', ',', 'course', ',', 'right'], ['A', 'cat', 'look', ',', 'I', 'think', 'become', 'others'], ['``', '``', 'What', 'politics', '?', \"''\", 'I', 'asked'], ['``', 'I', 'without', 'politics', ',', \"''\", 'said'], ['``', 'I', 'seventy-six', 'years', 'old'], ['I', 'come', 'twelve', 'kilometers', 'I', 'think', 'I', 'go'], ['``', '``', 'This', 'good', 'place', 'stop', ',', \"''\", 'I', 'said'], ['``', 'If', 'make', ',', 'trucks', 'road', 'forks', 'Tortosa'], ['``', '``', 'I', 'wait', ',', \"''\", 'said', ',', '``', 'I', 'go'], ['Where', 'trucks', 'go', '?', \"''\", \"''\", 'Towards', 'Barcelona', ',', \"''\", 'I', 'told'], ['``', 'I', 'know', 'one', 'direction', ',', \"''\", 'said', ',', '``', 'thank', 'much'], ['Thank', 'much'], ['``', 'He', 'looked', 'blankly', 'tiredly', ',', 'said', ',', 'share', 'worry', 'someone', ',', '``', 'The', 'cat', 'right', ',', 'I', 'sure'], ['There', 'need', 'unquiet', 'cat'], ['But', 'others'], ['Now', 'think', 'others', '?', \"''\", \"''\", 'Why', \"'ll\", 'probably', 'come', 'right'], ['``', '``', 'You', 'think', '?', \"''\", \"''\", 'Why', ',', \"''\", 'I', 'said', ',', 'watching', 'far', 'bank', 'carts'], ['``', 'But', 'artillery', 'I', 'told', 'leave', 'artillery', '?', \"''\", '``', 'Did', 'leave', 'dove', 'cage', 'unlocked', '?', \"''\", 'I', 'asked'], ['``', 'Yes'], ['``', '``', 'Then', \"'ll\", 'fly'], ['``', '``', 'Yes', ',', 'certainly', \"'ll\", 'fly'], ['But', 'others'], ['It', \"'s\", 'better', 'think', 'others', ',', \"''\", 'said'], ['``', 'If', 'rested', 'I', 'would', 'go', ',', \"''\", 'I', 'urged'], ['``', 'Get', 'try', 'walk'], ['``', '``', 'Thank', ',', \"''\", 'said', 'got', 'feet', ',', 'swayed', 'side', 'side', 'sat', 'backwards', 'dust'], ['``', 'I', 'taking', 'care', 'animals', ',', \"''\", 'said', 'dully', ',', 'longer'], ['``', 'I', 'taking', 'care', 'animals'], ['``', 'There', 'nothing'], ['It', 'Easter', 'Sunday', 'Fascists', 'advancing', 'toward', 'Ebro'], ['It', 'gray', 'overcast', 'day', 'low', 'ceiling', 'planes'], ['That', 'fact', 'cats', 'know', 'look', 'good', 'luck', 'old', 'man', 'would', 'ever'], []]\n"
          ],
          "name": "stdout"
        }
      ]
    },
    {
      "cell_type": "code",
      "metadata": {
        "id": "EO9L5u9lXCdD",
        "colab_type": "code",
        "outputId": "6f6de9c9-1c58-4c3a-aab1-e230ccd0df42",
        "colab": {
          "base_uri": "https://localhost:8080/",
          "height": 1000
        }
      },
      "source": [
        "import re\n",
        "word_wt={}\n",
        "word_cnt={}\n",
        "norm=0\n",
        "ul=[]\n",
        "for i in ftls:\n",
        "  for j in i:\n",
        "    ul.append(j)\n",
        "\n",
        "uls=''.join(ul)\n",
        "\n",
        "us=set(ul)\n",
        "#print(us)\n",
        "for i in us:\n",
        "  #print(i)\n",
        "  if i.isalpha():\n",
        "    n=len(re.findall(i,uls))\n",
        "    word_cnt[i]= n\n",
        "    norm=n**2+norm\n",
        "  else:\n",
        "    word_cnt[i]= 0\n",
        "\n",
        "for i in us:\n",
        "  word_wt[i]=word_cnt[i]/norm\n",
        "\n",
        "word_wt"
      ],
      "execution_count": 0,
      "outputs": [
        {
          "output_type": "execute_result",
          "data": {
            "text/plain": [
              "{\"''\": 0.0,\n",
              " \"'ll\": 0.0,\n",
              " \"'s\": 0.0,\n",
              " ',': 0.0,\n",
              " '?': 0.0,\n",
              " 'A': 0.0015225334957369061,\n",
              " 'African': 0.0003045066991473812,\n",
              " 'And': 0.0006090133982947625,\n",
              " 'Barcelona': 0.0003045066991473812,\n",
              " 'Because': 0.0003045066991473812,\n",
              " 'Bridge': 0.0003045066991473812,\n",
              " 'But': 0.001218026796589525,\n",
              " 'Carlos': 0.0006090133982947625,\n",
              " 'Delta': 0.0003045066991473812,\n",
              " 'Did': 0.0003045066991473812,\n",
              " 'Easter': 0.0003045066991473812,\n",
              " 'Ebro': 0.0006090133982947625,\n",
              " 'Ernest': 0.0003045066991473812,\n",
              " 'Fascists': 0.0003045066991473812,\n",
              " 'From': 0.0003045066991473812,\n",
              " 'Get': 0.0003045066991473812,\n",
              " 'He': 0.001218026796589525,\n",
              " 'HemingwayAn': 0.0003045066991473812,\n",
              " 'I': 0.011875761266747869,\n",
              " 'If': 0.0006090133982947625,\n",
              " 'It': 0.0033495736906211937,\n",
              " 'Man': 0.0003045066991473812,\n",
              " 'No': 0.0006090133982947625,\n",
              " 'Now': 0.0003045066991473812,\n",
              " 'Oh': 0.0003045066991473812,\n",
              " 'Old': 0.0003045066991473812,\n",
              " 'San': 0.0006090133982947625,\n",
              " 'Sunday': 0.0003045066991473812,\n",
              " 'Thank': 0.0006090133982947625,\n",
              " 'That': 0.0006090133982947625,\n",
              " 'The': 0.003958587088915956,\n",
              " 'Then': 0.0003045066991473812,\n",
              " 'There': 0.0018270401948842874,\n",
              " 'This': 0.0003045066991473812,\n",
              " 'Tortosa': 0.0003045066991473812,\n",
              " 'Towards': 0.0003045066991473812,\n",
              " 'Various': 0.0003045066991473812,\n",
              " 'What': 0.0009135200974421437,\n",
              " 'Where': 0.0006090133982947625,\n",
              " 'Why': 0.0006090133982947625,\n",
              " 'Yes': 0.001218026796589525,\n",
              " 'You': 0.0003045066991473812,\n",
              " '``': 0.0,\n",
              " 'across': 0.0003045066991473812,\n",
              " 'advanced': 0.0003045066991473812,\n",
              " 'advancing': 0.0003045066991473812,\n",
              " 'along': 0.0003045066991473812,\n",
              " 'altogether': 0.0003045066991473812,\n",
              " 'animals': 0.0027405602923264312,\n",
              " 'ankle': 0.0003045066991473812,\n",
              " 'artillery': 0.001218026796589525,\n",
              " 'asked': 0.0018270401948842874,\n",
              " 'away': 0.0003045066991473812,\n",
              " 'backwards': 0.0003045066991473812,\n",
              " 'bank': 0.0009135200974421437,\n",
              " 'become': 0.0003045066991473812,\n",
              " 'better': 0.0003045066991473812,\n",
              " 'beyond': 0.0003045066991473812,\n",
              " 'black': 0.0003045066991473812,\n",
              " 'blankly': 0.0003045066991473812,\n",
              " 'bridge': 0.002131546894031669,\n",
              " 'bridgehead': 0.0003045066991473812,\n",
              " 'business': 0.0003045066991473812,\n",
              " 'cage': 0.0003045066991473812,\n",
              " 'called': 0.0003045066991473812,\n",
              " 'captain': 0.0003045066991473812,\n",
              " 'care': 0.001218026796589525,\n",
              " 'carts': 0.0015225334957369061,\n",
              " 'cat': 0.0018270401948842874,\n",
              " 'cats': 0.0003045066991473812,\n",
              " 'ceiling': 0.0003045066991473812,\n",
              " 'certainly': 0.0003045066991473812,\n",
              " 'children': 0.0003045066991473812,\n",
              " 'clothes': 0.0006090133982947625,\n",
              " 'come': 0.001218026796589525,\n",
              " 'contact': 0.0003045066991473812,\n",
              " 'country': 0.0003045066991473812,\n",
              " 'course': 0.0003045066991473812,\n",
              " 'cross': 0.0009135200974421437,\n",
              " 'crossing': 0.0003045066991473812,\n",
              " 'day': 0.0006090133982947625,\n",
              " 'deep': 0.0003045066991473812,\n",
              " 'direction': 0.0003045066991473812,\n",
              " 'dove': 0.0003045066991473812,\n",
              " 'drawn': 0.0003045066991473812,\n",
              " 'dully': 0.0003045066991473812,\n",
              " 'dust': 0.0015225334957369061,\n",
              " 'dusty': 0.0009135200974421437,\n",
              " 'end': 0.0003045066991473812,\n",
              " 'enemy': 0.0006090133982947625,\n",
              " 'event': 0.0006090133982947625,\n",
              " 'ever': 0.0006090133982947625,\n",
              " 'explained': 0.0006090133982947625,\n",
              " 'explore': 0.0003045066991473812,\n",
              " 'face': 0.0003045066991473812,\n",
              " 'fact': 0.0003045066991473812,\n",
              " 'family': 0.0003045066991473812,\n",
              " 'far': 0.0009135200974421437,\n",
              " 'farther': 0.0003045066991473812,\n",
              " 'feet': 0.0003045066991473812,\n",
              " 'find': 0.0003045066991473812,\n",
              " 'first': 0.0003045066991473812,\n",
              " 'fly': 0.0006090133982947625,\n",
              " 'foot': 0.0003045066991473812,\n",
              " 'forks': 0.0003045066991473812,\n",
              " 'four': 0.0003045066991473812,\n",
              " 'gave': 0.0003045066991473812,\n",
              " 'go': 0.0030450669914738123,\n",
              " 'goats': 0.0003045066991473812,\n",
              " 'good': 0.0006090133982947625,\n",
              " 'got': 0.0003045066991473812,\n",
              " 'gray': 0.0006090133982947625,\n",
              " 'ground': 0.0003045066991473812,\n",
              " 'head': 0.0009135200974421437,\n",
              " 'heading': 0.0003045066991473812,\n",
              " 'helping': 0.0003045066991473812,\n",
              " 'herdsman': 0.0003045066991473812,\n",
              " 'hurrying': 0.0003045066991473812,\n",
              " 'kilometers': 0.0003045066991473812,\n",
              " 'know': 0.0006090133982947625,\n",
              " 'last': 0.0006090133982947625,\n",
              " 'leave': 0.0015225334957369061,\n",
              " 'like': 0.0003045066991473812,\n",
              " 'listening': 0.0003045066991473812,\n",
              " 'long': 0.0009135200974421437,\n",
              " 'longer': 0.0003045066991473812,\n",
              " 'look': 0.0018270401948842874,\n",
              " 'looked': 0.0006090133982947625,\n",
              " 'looking': 0.0003045066991473812,\n",
              " 'low': 0.0003045066991473812,\n",
              " 'luck': 0.0003045066991473812,\n",
              " 'make': 0.0003045066991473812,\n",
              " 'man': 0.002131546894031669,\n",
              " 'many': 0.0003045066991473812,\n",
              " 'men': 0.0009135200974421437,\n",
              " 'mention': 0.0003045066991473812,\n",
              " 'moving': 0.0003045066991473812,\n",
              " 'much': 0.0006090133982947625,\n",
              " 'mule-': 0.0,\n",
              " 'mysterious': 0.0003045066991473812,\n",
              " 'native': 0.0003045066991473812,\n",
              " 'need': 0.0003045066991473812,\n",
              " 'noises': 0.0003045066991473812,\n",
              " 'nothing': 0.0003045066991473812,\n",
              " 'old': 0.0030450669914738123,\n",
              " 'one': 0.0009135200974421437,\n",
              " 'others': 0.0015225334957369061,\n",
              " 'overcast': 0.0003045066991473812,\n",
              " 'pairs': 0.0003045066991473812,\n",
              " 'peasants': 0.0003045066991473812,\n",
              " 'people': 0.0003045066991473812,\n",
              " 'pigeons': 0.0003045066991473812,\n",
              " 'place': 0.0003045066991473812,\n",
              " 'planes': 0.0003045066991473812,\n",
              " 'pleasure': 0.0003045066991473812,\n",
              " 'plodded': 0.0003045066991473812,\n",
              " 'point': 0.0003045066991473812,\n",
              " 'politics': 0.0006090133982947625,\n",
              " 'pontoon': 0.0003045066991473812,\n",
              " 'probably': 0.0003045066991473812,\n",
              " 'push': 0.0003045066991473812,\n",
              " 'quite': 0.0003045066991473812,\n",
              " 'rested': 0.0003045066991473812,\n",
              " 'returned': 0.0003045066991473812,\n",
              " 'right': 0.0009135200974421437,\n",
              " 'rimmed': 0.0006090133982947625,\n",
              " 'river': 0.0003045066991473812,\n",
              " 'road': 0.0006090133982947625,\n",
              " 'said': 0.004567600487210719,\n",
              " 'sat': 0.001218026796589525,\n",
              " 'see': 0.0006090133982947625,\n",
              " 'seventy-six': 0.0,\n",
              " 'share': 0.0003045066991473812,\n",
              " 'shepherd': 0.0003045066991473812,\n",
              " 'shook': 0.0003045066991473812,\n",
              " 'side': 0.0009135200974421437,\n",
              " 'signal': 0.0003045066991473812,\n",
              " 'slope': 0.0003045066991473812,\n",
              " 'smiled': 0.0006090133982947625,\n",
              " 'soldiers': 0.0003045066991473812,\n",
              " 'someone': 0.0003045066991473812,\n",
              " 'spectacles': 0.0006090133982947625,\n",
              " 'spokes': 0.0003045066991473812,\n",
              " 'staggered': 0.0003045066991473812,\n",
              " 'stated': 0.0003045066991473812,\n",
              " 'stayed': 0.0003045066991473812,\n",
              " 'steel': 0.0006090133982947625,\n",
              " 'steep': 0.0003045066991473812,\n",
              " 'still': 0.0006090133982947625,\n",
              " 'stop': 0.0003045066991473812,\n",
              " 'sure': 0.0006090133982947625,\n",
              " 'swayed': 0.0003045066991473812,\n",
              " 'taking': 0.001218026796589525,\n",
              " 'thank': 0.0003045066991473812,\n",
              " 'think': 0.0015225334957369061,\n",
              " 'three': 0.0003045066991473812,\n",
              " 'tired': 0.0006090133982947625,\n",
              " 'tiredly': 0.0003045066991473812,\n",
              " 'told': 0.001218026796589525,\n",
              " 'toward': 0.0003045066991473812,\n",
              " 'town': 0.0006090133982947625,\n",
              " 'trucks': 0.001218026796589525,\n",
              " 'try': 0.0006090133982947625,\n",
              " 'twelve': 0.0003045066991473812,\n",
              " 'two': 0.0003045066991473812,\n",
              " 'understanding': 0.0003045066991473812,\n",
              " 'unlocked': 0.0003045066991473812,\n",
              " 'unquiet': 0.0003045066991473812,\n",
              " 'urged': 0.0003045066991473812,\n",
              " 'wait': 0.0003045066991473812,\n",
              " 'walk': 0.0003045066991473812,\n",
              " 'watching': 0.0009135200974421437,\n",
              " 'wheels': 0.0003045066991473812,\n",
              " 'without': 0.0006090133982947625,\n",
              " 'women': 0.0003045066991473812,\n",
              " 'wondering': 0.0003045066991473812,\n",
              " 'worry': 0.0003045066991473812,\n",
              " 'would': 0.0015225334957369061,\n",
              " 'years': 0.0003045066991473812,\n",
              " '“': 0.0,\n",
              " '”': 0.0}"
            ]
          },
          "metadata": {
            "tags": []
          },
          "execution_count": 28
        }
      ]
    },
    {
      "cell_type": "code",
      "metadata": {
        "id": "XYqRL85caHqA",
        "colab_type": "code",
        "outputId": "b310df24-1f65-46e1-c6f8-9c4f3f8415ec",
        "colab": {
          "base_uri": "https://localhost:8080/",
          "height": 901
        }
      },
      "source": [
        "dict_wt={}\n",
        "d=1\n",
        "for i in tls:\n",
        "  wt=0\n",
        "  for j in i:\n",
        "    if j not in word_wt:\n",
        "      wt=wt+0\n",
        "    else:\n",
        "      wt=wt+word_wt[j]\n",
        "  dict_wt[wt]=d\n",
        "  d+=1\n",
        "\n",
        "dict_wt\n"
      ],
      "execution_count": 0,
      "outputs": [
        {
          "output_type": "execute_result",
          "data": {
            "text/plain": [
              "{0: 61,\n",
              " 0.0009135200974421437: 48,\n",
              " 0.001218026796589525: 53,\n",
              " 0.0015225334957369061: 25,\n",
              " 0.002131546894031669: 57,\n",
              " 0.002740560292326431: 50,\n",
              " 0.0030450669914738123: 12,\n",
              " 0.0033495736906211937: 36,\n",
              " 0.004263093788063338: 42,\n",
              " 0.005176613885505481: 22,\n",
              " 0.005481120584652862: 58,\n",
              " 0.005785627283800243: 59,\n",
              " 0.0057856272838002435: 21,\n",
              " 0.0063946406820950055: 44,\n",
              " 0.006699147381242387: 11,\n",
              " 0.007003654080389768: 29,\n",
              " 0.008526187576126675: 5,\n",
              " 0.009135200974421435: 4,\n",
              " 0.009135200974421437: 7,\n",
              " 0.009439707673568819: 2,\n",
              " 0.0097442143727162: 26,\n",
              " 0.01004872107186358: 9,\n",
              " 0.010962241169305723: 54,\n",
              " 0.010962241169305727: 3,\n",
              " 0.011266747868453105: 51,\n",
              " 0.011875761266747867: 60,\n",
              " 0.013398294762484775: 18,\n",
              " 0.01431181485992692: 8,\n",
              " 0.015225334957369063: 33,\n",
              " 0.015529841656516444: 10,\n",
              " 0.015834348355663826: 23,\n",
              " 0.016747868453105965: 1,\n",
              " 0.01674786845310597: 16,\n",
              " 0.017052375152253347: 56,\n",
              " 0.017356881851400732: 20,\n",
              " 0.01766138855054811: 32,\n",
              " 0.017965895249695493: 35,\n",
              " 0.018574908647990256: 38,\n",
              " 0.01918392204628502: 39,\n",
              " 0.020097442143727162: 28,\n",
              " 0.020401948842874544: 30,\n",
              " 0.02222898903775883: 55,\n",
              " 0.022533495736906214: 27,\n",
              " 0.02314250913520097: 45,\n",
              " 0.023751522533495738: 15,\n",
              " 0.02710109622411693: 41,\n",
              " 0.029537149817295983: 52,\n",
              " 0.03166869671132765: 37,\n",
              " 0.034104750304506715: 19,\n",
              " 0.03471376370280146: 46,\n",
              " 0.038976857490864804: 17,\n",
              " 0.04202192448233861: 34}"
            ]
          },
          "metadata": {
            "tags": []
          },
          "execution_count": 29
        }
      ]
    },
    {
      "cell_type": "code",
      "metadata": {
        "id": "wBeQ983Dh2lr",
        "colab_type": "code",
        "outputId": "c7ca2b12-ed8a-4f19-893c-1bdaf63ecee9",
        "colab": {
          "base_uri": "https://localhost:8080/",
          "height": 54
        }
      },
      "source": [
        "size=len(ls)*20//100\n",
        "\n",
        "\n",
        "a=0\n",
        "ans=[]\n",
        "for i in sorted (dict_wt.keys(),reverse=True) :  \n",
        "  print(i, end = \" \")\n",
        "  if a!=size:\n",
        "    ans.append(dict_wt[i])\n",
        "    a+=1 "
      ],
      "execution_count": 0,
      "outputs": [
        {
          "output_type": "stream",
          "text": [
            "0.04202192448233861 0.038976857490864804 0.03471376370280146 0.034104750304506715 0.03166869671132765 0.029537149817295983 0.02710109622411693 0.023751522533495738 0.02314250913520097 0.022533495736906214 0.02222898903775883 0.020401948842874544 0.020097442143727162 0.01918392204628502 0.018574908647990256 0.017965895249695493 0.01766138855054811 0.017356881851400732 0.017052375152253347 0.01674786845310597 0.016747868453105965 0.015834348355663826 0.015529841656516444 0.015225334957369063 0.01431181485992692 0.013398294762484775 0.011875761266747867 0.011266747868453105 0.010962241169305727 0.010962241169305723 0.01004872107186358 0.0097442143727162 0.009439707673568819 0.009135200974421437 0.009135200974421435 0.008526187576126675 0.007003654080389768 0.006699147381242387 0.0063946406820950055 0.0057856272838002435 0.005785627283800243 0.005481120584652862 0.005176613885505481 0.004263093788063338 0.0033495736906211937 0.0030450669914738123 0.002740560292326431 0.002131546894031669 0.0015225334957369061 0.001218026796589525 0.0009135200974421437 0 "
          ],
          "name": "stdout"
        }
      ]
    },
    {
      "cell_type": "code",
      "metadata": {
        "id": "yJGitGMjiU9m",
        "colab_type": "code",
        "outputId": "569c79bd-bb3b-4f5b-b1ac-b89ec7ef5011",
        "colab": {
          "base_uri": "https://localhost:8080/",
          "height": 34
        }
      },
      "source": [
        "ans"
      ],
      "execution_count": 0,
      "outputs": [
        {
          "output_type": "execute_result",
          "data": {
            "text/plain": [
              "[34, 17, 46, 19, 37, 52, 41, 15, 45, 27, 55, 30]"
            ]
          },
          "metadata": {
            "tags": []
          },
          "execution_count": 31
        }
      ]
    },
    {
      "cell_type": "code",
      "metadata": {
        "id": "pwhw72cRkGwQ",
        "colab_type": "code",
        "outputId": "310df0cc-f7c7-4fb2-d118-15a8724bbeaa",
        "colab": {
          "base_uri": "https://localhost:8080/",
          "height": 34
        }
      },
      "source": [
        "ans.sort()\n",
        "ans"
      ],
      "execution_count": 0,
      "outputs": [
        {
          "output_type": "execute_result",
          "data": {
            "text/plain": [
              "[15, 17, 19, 27, 30, 34, 37, 41, 45, 46, 52, 55]"
            ]
          },
          "metadata": {
            "tags": []
          },
          "execution_count": 32
        }
      ]
    },
    {
      "cell_type": "code",
      "metadata": {
        "id": "fD94xcnmkUIy",
        "colab_type": "code",
        "outputId": "bd9e186c-04fd-4723-f597-9cface26904d",
        "colab": {
          "base_uri": "https://localhost:8080/",
          "height": 51
        }
      },
      "source": [
        "summ=[]\n",
        "for i in ans:\n",
        "  summ.append(di[i])\n",
        "print(len(ls))\n",
        "print(len(summ))\n",
        "an=('.'.join(summ))\n",
        "f.close()\n",
        "o=open('a2.txt','w')\n",
        "o.write(an)\n",
        "o.close()"
      ],
      "execution_count": 0,
      "outputs": [
        {
          "output_type": "stream",
          "text": [
            "61\n",
            "12\n"
          ],
          "name": "stdout"
        }
      ]
    },
    {
      "cell_type": "code",
      "metadata": {
        "id": "NFqlIn9XvTby",
        "colab_type": "code",
        "colab": {}
      },
      "source": [
        ""
      ],
      "execution_count": 0,
      "outputs": []
    }
  ]
}